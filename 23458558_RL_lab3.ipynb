{
  "nbformat": 4,
  "nbformat_minor": 0,
  "metadata": {
    "colab": {
      "provenance": [],
      "authorship_tag": "ABX9TyNJG8CEjjYqBgoC8Ue0x5XK",
      "include_colab_link": true
    },
    "kernelspec": {
      "name": "python3",
      "display_name": "Python 3"
    },
    "language_info": {
      "name": "python"
    }
  },
  "cells": [
    {
      "cell_type": "markdown",
      "metadata": {
        "id": "view-in-github",
        "colab_type": "text"
      },
      "source": [
        "<a href=\"https://colab.research.google.com/github/ShreyJais/RL/blob/main/23458558_RL_lab3.ipynb\" target=\"_parent\"><img src=\"https://colab.research.google.com/assets/colab-badge.svg\" alt=\"Open In Colab\"/></a>"
      ]
    },
    {
      "cell_type": "markdown",
      "source": [
        "# MDP Simulation and Value Iteration"
      ],
      "metadata": {
        "id": "-gZP6URk_m2l"
      }
    },
    {
      "cell_type": "code",
      "source": [
        "import numpy as np\n",
        "import matplotlib.pyplot as plt\n",
        "\n",
        "grid_size = 3\n",
        "states = [(i, j) for i in range(grid_size) for j in range(grid_size)]\n",
        "actions = ['up', 'down', 'left', 'right']\n",
        "\n",
        "goal_state = (2, 2)\n",
        "reward = np.zeros((grid_size, grid_size))\n",
        "reward[goal_state] = 1\n",
        "\n",
        "gamma = 0.9  # how much we value future rewards over immediate rewards"
      ],
      "metadata": {
        "id": "kRhvzDRhEwYA"
      },
      "execution_count": 20,
      "outputs": []
    },
    {
      "cell_type": "code",
      "source": [
        "def next_state(state, action):\n",
        "    i, j = state\n",
        "    if action == 'up':\n",
        "        return max(i - 1, 0), j\n",
        "    elif action == 'down':\n",
        "        return min(i + 1, grid_size - 1), j\n",
        "    elif action == 'left':\n",
        "        return i, max(j - 1, 0)\n",
        "    elif action == 'right':\n",
        "        return i, min(j + 1, grid_size - 1)\n",
        "    return state\n",
        "\n",
        "values = np.zeros((grid_size, grid_size))\n",
        "\n",
        "def display_grid(values):\n",
        "    for row in values:\n",
        "        print([\"{:.2f}\".format(x) for x in row])\n",
        "\n",
        "def value_iteration():\n",
        "    epsilon = 1e-4\n",
        "    while True:\n",
        "        delta = 0\n",
        "        new_values = values.copy()\n",
        "\n",
        "        for state in states:\n",
        "            if state == goal_state:\n",
        "                continue\n",
        "\n",
        "            i, j = state\n",
        "            value_options = []\n",
        "            for action in actions:\n",
        "                next_i, next_j = next_state(state, action)\n",
        "                reward_received = reward[next_i, next_j]\n",
        "                value_options.append(reward_received + gamma * values[next_i, next_j])\n",
        "\n",
        "            best_value = max(value_options)\n",
        "            new_values[i, j] = best_value\n",
        "            delta = max(delta, abs(best_value - values[i, j]))\n",
        "\n",
        "        values[:, :] = new_values\n",
        "        if delta < epsilon:\n",
        "            break"
      ],
      "metadata": {
        "id": "fWk16WROE_bd"
      },
      "execution_count": 22,
      "outputs": []
    },
    {
      "cell_type": "code",
      "source": [
        "value_iteration()\n",
        "print(\"Values after convergence:\")\n",
        "display_grid(values)"
      ],
      "metadata": {
        "colab": {
          "base_uri": "https://localhost:8080/"
        },
        "id": "Fo73Ei0AFcU3",
        "outputId": "b6929179-c2e3-47a8-d822-090513944956"
      },
      "execution_count": 23,
      "outputs": [
        {
          "output_type": "stream",
          "name": "stdout",
          "text": [
            "Values after convergence:\n",
            "['0.73', '0.81', '0.90']\n",
            "['0.81', '0.90', '1.00']\n",
            "['0.90', '1.00', '0.00']\n"
          ]
        }
      ]
    },
    {
      "cell_type": "code",
      "execution_count": 25,
      "metadata": {
        "colab": {
          "base_uri": "https://localhost:8080/"
        },
        "id": "Shqw0yS6_lJo",
        "outputId": "f6101088-4235-47e4-96b0-33bcdf3de4c9"
      },
      "outputs": [
        {
          "output_type": "stream",
          "name": "stdout",
          "text": [
            "\n",
            "Optimal Policy:\n",
            "[['down' 'down' 'down']\n",
            " ['down' 'down' 'down']\n",
            " ['right' 'right' 'Goal']]\n"
          ]
        }
      ],
      "source": [
        "policy = np.full((grid_size, grid_size), '', dtype=object)\n",
        "for state in states:\n",
        "    if state == goal_state:\n",
        "        policy[state] = 'Goal'\n",
        "        continue\n",
        "\n",
        "    i, j = state\n",
        "    action_values = {}\n",
        "    for action in actions:\n",
        "        next_i, next_j = next_state(state, action)\n",
        "        action_values[action] = reward[next_i, next_j] + gamma * values[next_i, next_j]\n",
        "\n",
        "    best_action = max(action_values, key=action_values.get)\n",
        "    policy[i, j] = best_action\n",
        "\n",
        "print(\"\\nOptimal Policy:\")\n",
        "print(policy)"
      ]
    },
    {
      "cell_type": "code",
      "source": [
        "import seaborn as sns\n",
        "plt.figure(figsize=(6, 6))\n",
        "sns.heatmap(values, annot=True, fmt=\".2f\", cmap=\"YlGnBu\", square=True)\n",
        "plt.title(\"State Value Heatmap\")\n",
        "plt.show()\n"
      ],
      "metadata": {
        "colab": {
          "base_uri": "https://localhost:8080/",
          "height": 513
        },
        "id": "5XvtLAlZ_6IF",
        "outputId": "1d6327be-2120-42ec-91fb-05ea7f8a3565"
      },
      "execution_count": 26,
      "outputs": [
        {
          "output_type": "display_data",
          "data": {
            "text/plain": [
              "<Figure size 600x600 with 2 Axes>"
            ],
            "image/png": "[encoded data removed]"
          },
          "metadata": {}
        }
      ]
    },
    {
      "cell_type": "code",
      "source": [],
      "metadata": {
        "id": "kbrcAQJhFgCb"
      },
      "execution_count": null,
      "outputs": []
    }
  ]
}